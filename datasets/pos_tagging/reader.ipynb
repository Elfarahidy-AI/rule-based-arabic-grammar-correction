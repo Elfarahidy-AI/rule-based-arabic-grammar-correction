{
 "cells": [
  {
   "cell_type": "code",
   "execution_count": 4,
   "metadata": {},
   "outputs": [],
   "source": [
    "import conllu\n",
    "import matplotlib.pyplot as plt\n",
    "import pandas as pd\n",
    "import re\n",
    "import numpy as np\n",
    "#encode the corpus to numbers\n",
    "import tensorflow as tf\n",
    "import gensim\n",
    "\n",
    "#preprocessing\n",
    "from sklearn.preprocessing import LabelEncoder\n",
    "from sklearn.model_selection import train_test_split\n",
    "\n",
    "#build the SVM\n",
    "from sklearn.neighbors import KNeighborsClassifier\n",
    "\n",
    "\n",
    "\n"
   ]
  },
  {
   "cell_type": "code",
   "execution_count": 5,
   "metadata": {},
   "outputs": [
    {
     "name": "stdout",
     "output_type": "stream",
     "text": [
      "<class 'str'>\n"
     ]
    },
    {
     "data": {
      "text/plain": [
       "' newdoc id = n01001\\n# sent_id = n01001011\\n# text = كتبت كوري شولمان, المساعدة الخاصة لأوباما في تدوينة نشرتها يوم الإثنين: \"فيما الكثير من عمليات الانتقال الرقمي غير مسبوقة في الولايات المتحدة, فإن الانتقال السلمي للسلطة سبق له أن حدث\".\\n# original_text = كتبت كوري شولمان, المساعدة الخاصة لأوباما في تدوينة نشرتها يوم الإثنين: \"فيما الكثير من عمليات الانتقال الرقمي غير مسبوقة في الولايات المتحدة, فإن الانتقال السلمي للسلطة سبق له أن حدث\".\\n# text_en = “While much of the digital transition is unprecedented in the United States, the peaceful transition of power is not,” Obama special assistant Kori Schulman wrote in a blog post Monday.\\n1\\tكتبت\\tكَتَب\\tVERB\\tVBC\\tAspect=Perf|Gender=Fem|Number=Sing|Person=3|Tense=Past|Voice=Act\\t0\\troot\\t_\\tLId=كَتَب-ُ_1\\n2\\tكوري\\tكوري\\tPROPN\\tNNP\\tCase=Nom|Gender=Fem|Number=Sing\\t1\\tnsubj\\t_\\tLId=كوري_0\\n3\\tشولمان\\tشولمان\\tPROPN\\tNNP\\tGender=Masc|Number=Sing\\t2\\tflat\\t_\\tLId=شولمان_0|SpaceAfter=No\\n4\\t,\\t,\\tPUNCT\\t,\\t_\\t5\\tpunct\\t_\\tLId=,_0\\n5\\tالمساعدة\\tمُساعِد\\tNOUN\\tNN\\tCase=Nom|Definite=Def|Gender'"
      ]
     },
     "execution_count": 5,
     "metadata": {},
     "output_type": "execute_result"
    }
   ],
   "source": [
    "with open(\"pos_tagging_dataset.conllu\", mode=\"r\", encoding=\"utf-8\") as data:\n",
    "\n",
    "    #read the file contents and assign under 'annotations'\n",
    "    annotations=data.read()\n",
    "\n",
    "#check the type of the resulting object\n",
    "print(type(annotations))\n",
    "annotations[1:1000]"
   ]
  },
  {
   "cell_type": "code",
   "execution_count": 6,
   "metadata": {},
   "outputs": [],
   "source": [
    "sentences = conllu.parse(annotations)"
   ]
  },
  {
   "cell_type": "code",
   "execution_count": 7,
   "metadata": {},
   "outputs": [
    {
     "name": "stdout",
     "output_type": "stream",
     "text": [
      "<class 'conllu.models.SentenceList'>\n"
     ]
    },
    {
     "data": {
      "text/plain": [
       "{'newdoc id': 'n01001',\n",
       " 'sent_id': 'n01001011',\n",
       " 'text': 'كتبت كوري شولمان, المساعدة الخاصة لأوباما في تدوينة نشرتها يوم الإثنين: \"فيما الكثير من عمليات الانتقال الرقمي غير مسبوقة في الولايات المتحدة, فإن الانتقال السلمي للسلطة سبق له أن حدث\".',\n",
       " 'original_text': 'كتبت كوري شولمان, المساعدة الخاصة لأوباما في تدوينة نشرتها يوم الإثنين: \"فيما الكثير من عمليات الانتقال الرقمي غير مسبوقة في الولايات المتحدة, فإن الانتقال السلمي للسلطة سبق له أن حدث\".',\n",
       " 'text_en': '“While much of the digital transition is unprecedented in the United States, the peaceful transition of power is not,” Obama special assistant Kori Schulman wrote in a blog post Monday.'}"
      ]
     },
     "execution_count": 7,
     "metadata": {},
     "output_type": "execute_result"
    }
   ],
   "source": [
    "print(type(sentences))\n",
    "sentences[0].metadata #metadata is simply a dictionary type\n",
    "#meta data has 5 keys:newdoc id ,sent_id,text,original_text,text_en\n"
   ]
  },
  {
   "cell_type": "code",
   "execution_count": 8,
   "metadata": {},
   "outputs": [
    {
     "data": {
      "text/plain": [
       "{'id': 1,\n",
       " 'form': 'كتبت',\n",
       " 'lemma': 'كَتَب',\n",
       " 'upos': 'VERB',\n",
       " 'xpos': 'VBC',\n",
       " 'feats': {'Aspect': 'Perf',\n",
       "  'Gender': 'Fem',\n",
       "  'Number': 'Sing',\n",
       "  'Person': '3',\n",
       "  'Tense': 'Past',\n",
       "  'Voice': 'Act'},\n",
       " 'head': 0,\n",
       " 'deprel': 'root',\n",
       " 'deps': None,\n",
       " 'misc': {'LId': 'كَتَب-ُ_1'}}"
      ]
     },
     "execution_count": 8,
     "metadata": {},
     "output_type": "execute_result"
    }
   ],
   "source": [
    "sentences[0][0]\n",
    "#each sentence is a row , sentences[sentence_indx][:]\n",
    "# to access each word within the sentence's pos, use sentences[sentence_indx][word_indx]['upos']\n",
    "\n",
    "\n"
   ]
  },
  {
   "cell_type": "code",
   "execution_count": null,
   "metadata": {},
   "outputs": [],
   "source": []
  }
 ],
 "metadata": {
  "kernelspec": {
   "display_name": "image",
   "language": "python",
   "name": "python3"
  },
  "language_info": {
   "codemirror_mode": {
    "name": "ipython",
    "version": 3
   },
   "file_extension": ".py",
   "mimetype": "text/x-python",
   "name": "python",
   "nbconvert_exporter": "python",
   "pygments_lexer": "ipython3",
   "version": "3.11.5"
  }
 },
 "nbformat": 4,
 "nbformat_minor": 2
}
