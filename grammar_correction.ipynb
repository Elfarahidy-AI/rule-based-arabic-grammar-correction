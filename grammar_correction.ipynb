{
 "cells": [
  {
   "cell_type": "code",
   "execution_count": 6,
   "metadata": {},
   "outputs": [],
   "source": [
    "from modules.word_grammar import WordLevelGrammer\n",
    "from modules.context_grammar import ContextGrammar"
   ]
  },
  {
   "cell_type": "code",
   "execution_count": 15,
   "metadata": {},
   "outputs": [
    {
     "name": "stdout",
     "output_type": "stream",
     "text": [
      "لعب الولد الكرة وكان هذان المعلمان المتميزان المتفوقان لا يشاهدان\n"
     ]
    }
   ],
   "source": [
    "text =\"لعب الولد الكرة وكان هذين المعلمين المتميزين المتفوقون لا يشاهدون\"\n",
    "words = text.split()\n",
    "word_grammar = WordLevelGrammer()\n",
    "context_grammar = ContextGrammar()\n",
    "\n",
    "word_level_hanedeld = word_grammar.handle_word_level_errors(words)\n",
    "context_level_handeled = context_grammar.handle_context_level_errors(word_level_hanedeld)\n",
    "output = \" \".join(context_level_handeled)\n",
    "print(output)\n"
   ]
  },
  {
   "cell_type": "code",
   "execution_count": null,
   "metadata": {},
   "outputs": [],
   "source": []
  }
 ],
 "metadata": {
  "kernelspec": {
   "display_name": "image",
   "language": "python",
   "name": "python3"
  },
  "language_info": {
   "codemirror_mode": {
    "name": "ipython",
    "version": 3
   },
   "file_extension": ".py",
   "mimetype": "text/x-python",
   "name": "python",
   "nbconvert_exporter": "python",
   "pygments_lexer": "ipython3",
   "version": "3.11.5"
  }
 },
 "nbformat": 4,
 "nbformat_minor": 2
}
