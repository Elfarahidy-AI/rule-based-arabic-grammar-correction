{
 "cells": [
  {
   "cell_type": "code",
   "execution_count": 1,
   "metadata": {},
   "outputs": [],
   "source": [
    "##### This class is responsible for handling the grammer of the arabic words\n",
    "##### Using a rule based approach. but it assumes that all the sentences are separated using punctuation marks.\n",
    "##### We are also assuming that there is no errors in the verbs spelling entered by the user\n",
    "\n",
    "##### صحيح الهمزات كلها \n",
    "##### تصحيح دمج كلمتين\n",
    "##### تصحيح بعض اخطاء الفصل (فصل كلمتين) \n",
    "##### رفع الفعل المضارع \n",
    "##### نصب الفعل المضارع \n",
    "##### جزم الفعل المضارع \n",
    "##### تصحيح و جر الإسم المجرور اذا كان مرفوع بالخطأ\n",
    "##### ضبط المضاف إليه بعد ظرف الزمان او المكان \n",
    "##### ضبط النعت \n",
    "##### ضبط اسماء الإشارة و ما بعدها \n",
    "##### تصحيح المثنى للجمع او الجمع للمثنى في حالة التعامل مع مع اسماء الإشارة \n",
    "##### تصحيح اسم كان واخواتها \n",
    "##### تصحيح اسم ان واخواتها \n",
    "##### ضبط بعض اجزاء الجملة الإسمية\n",
    "##### ضبط العطف و المعطوف\n",
    "##### ضبط التوكيد"
   ]
  },
  {
   "cell_type": "code",
   "execution_count": 2,
   "metadata": {},
   "outputs": [],
   "source": [
    "from modules.word_grammar import WordLevelGrammer\n",
    "from modules.context_grammar import ContextGrammar"
   ]
  },
  {
   "cell_type": "code",
   "execution_count": 3,
   "metadata": {},
   "outputs": [],
   "source": [
    "def split_text_on_dots(text):\n",
    "    parts = text.split('.')\n",
    "    parts = [part.strip() + ' .' for part in parts if part.strip()]\n",
    "    list_of_lists = [part.split() for part in parts]\n",
    "    return list_of_lists\n",
    "\n",
    "def remove_empty_strings(elements):\n",
    "    return [element for element in elements if element.strip()]\n",
    "\n",
    "\n",
    "def format_list_of_lists(list_of_lists):\n",
    "    formatted_text = \"\"\n",
    "    for sentence in list_of_lists:\n",
    "        sentence = remove_empty_strings(sentence)\n",
    "        formatted_sentence = ' '.join(sentence)\n",
    "        formatted_text += f'\"{formatted_sentence} \"\\n'\n",
    "    formatted_text += \"\" \n",
    "    formatted_text.strip()\n",
    "    return formatted_text\n",
    "\n",
    "\n"
   ]
  },
  {
   "cell_type": "code",
   "execution_count": 4,
   "metadata": {},
   "outputs": [
    {
     "name": "stdout",
     "output_type": "stream",
     "text": [
      "\"الأولاد يلعبون الكرة ولكن المعلمين لا يشاهدونهم . \"\n",
      "\"لا ترجوا رحمة أحد غير الله . \"\n",
      "\"وكان المعلمون متميزون والأولاد مثلهم . \"\n",
      "\"الأولاد ناموا ولن يشاهوا التلفاز . \"\n",
      "\"وهذان المعلمان متميزان . \"\n",
      "\"أصبح المعلمون متميزين . \"\n",
      "\"أن صائدي السمك يبحرون . \"\n",
      "\"رجع المعلمون إلى المدرسة . \"\n",
      "\"الطلاب المتميزون لا يشاهدون التلفاز . \"\n",
      "\n"
     ]
    }
   ],
   "source": [
    "text = (\n",
    "    \"الاولاد يلعبون الكرة ولكن المعلمون لا يشاهدينهم. \"\n",
    "    \"لا ترجون رحمة احد غير الله. \"\n",
    "    \"وكان المعلمون متميزون والاولاد مثلهم. \"\n",
    "    \"الأولاد ناموا ولن يشاهون التلفاز. \"\n",
    "    \"وهذان المعلمين متميزون.\"\n",
    "    \"اصبح المعلمين متميزين.\"\n",
    "    \"ان صائدون السمك يبحروا.\"\n",
    "    \"رجع المعلمين الى المدرسة.\"\n",
    "    \"الطلاب المتميزين لا يشاهدوا التلفاز.\"\n",
    ")\n",
    "\n",
    "words_list = split_text_on_dots(text)\n",
    "word_grammar = WordLevelGrammer()\n",
    "context_grammar = ContextGrammar()\n",
    "new_words_list = []\n",
    "\n",
    "for words in words_list:\n",
    "    word_level_hanedeld = word_grammar.handle_word_level_errors_without_wows(words)\n",
    "    word_level_hanedeld_no_wow = word_grammar.handle_word_level_errors_without_wows(word_level_hanedeld)\n",
    "\n",
    "    context_level_handeled = context_grammar.handle_context_level_errors_without_wows(word_level_hanedeld_no_wow)\n",
    "    \n",
    "    new_words_list.append(context_level_handeled)\n",
    "\n",
    "print(format_list_of_lists(new_words_list))\n"
   ]
  },
  {
   "cell_type": "code",
   "execution_count": null,
   "metadata": {},
   "outputs": [],
   "source": []
  }
 ],
 "metadata": {
  "kernelspec": {
   "display_name": "Python 3 (ipykernel)",
   "language": "python",
   "name": "python3"
  },
  "language_info": {
   "codemirror_mode": {
    "name": "ipython",
    "version": 3
   },
   "file_extension": ".py",
   "mimetype": "text/x-python",
   "name": "python",
   "nbconvert_exporter": "python",
   "pygments_lexer": "ipython3",
   "version": "3.11.5"
  }
 },
 "nbformat": 4,
 "nbformat_minor": 4
}
