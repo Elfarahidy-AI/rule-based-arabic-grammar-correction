{
 "cells": [
  {
   "cell_type": "code",
   "execution_count": 1,
   "metadata": {},
   "outputs": [],
   "source": [
    "from grammer_handler import Grammer"
   ]
  },
  {
   "cell_type": "code",
   "execution_count": 2,
   "metadata": {},
   "outputs": [
    {
     "name": "stdout",
     "output_type": "stream",
     "text": [
      "['هذا', 'في', 'الماضي', 'كان', 'الطلاب', 'المميزين', 'مجتهدون', '.']\n",
      "False\n"
     ]
    }
   ],
   "source": [
    "# Example usage\n",
    "grammer = Grammer()\n",
    "word_list = ['هذا', 'في', 'الماضي', 'كان','الطلاب', 'المميزين', 'مجتهدون', '.']\n",
    "result = grammer.handle_kana(word_list)\n",
    "print(result)\n",
    "print(grammer.is_verbal_sentence(result))"
   ]
  },
  {
   "cell_type": "code",
   "execution_count": 3,
   "metadata": {},
   "outputs": [
    {
     "name": "stdout",
     "output_type": "stream",
     "text": [
      "['وكان', 'الطالبين', 'يدرسان', 'بجد', '.']\n",
      "['كان', 'المعلمان', 'يساعدون', 'الطلاب', 'في', 'الفصل', '.']\n",
      "True\n",
      "True\n",
      "\n",
      "True\n",
      "False\n",
      "True\n",
      "False\n",
      "False\n",
      "False\n",
      "False\n"
     ]
    }
   ],
   "source": [
    "def split_text_to_word_lists(text):\n",
    "    # Split the text by dots and strip any leading/trailing whitespace from each segment\n",
    "    sentences = [sentence.strip() for sentence in text.split('.') if sentence.strip()]\n",
    "    \n",
    "    # Split each sentence into a list of words\n",
    "    word_lists = [sentence.split() + ['.'] for sentence in sentences]  # Append a dot at the end\n",
    "    \n",
    "    return word_lists\n",
    "\n",
    "\n",
    "\n",
    "text = \"وكان الطالبين يدرسان بجد. كان المعلمان يساعدون الطلاب في الفصل.\"\n",
    "\n",
    "word_lists = split_text_to_word_lists(text)\n",
    "\n",
    "for word_list in word_lists:\n",
    "    result = grammer.handle_kana(word_list)\n",
    "    print(result)\n",
    "\n",
    "for word_list in word_lists:\n",
    "    print(grammer.is_verbal_sentence(word_list))\n",
    "    \n",
    "print(\"\")\n",
    "for word in word_lists[1]:\n",
    "    print(grammer.is_verb(word))"
   ]
  },
  {
   "cell_type": "code",
   "execution_count": 4,
   "metadata": {},
   "outputs": [
    {
     "name": "stdout",
     "output_type": "stream",
     "text": [
      "\n",
      "كان الولدان يلعب في الحديقة.\n",
      "البنت يقرأ كتابًا تحت الشجرة.\n",
      "الطالب تدرسان معًا في المكتبة.\n",
      "ذهبت الأسرة إلى سوق.\n",
      "أشتريت ثلاث كتب من المكتبة.\n",
      "الكتابة على الطاولة.\n",
      "المعلمين يعلم الطلاب في الصف.\n",
      "كان الرجال يجلسون على الكرسي.\n",
      "ألبنات تلعب في الساحتان المتجاورتان الصغيرتان.\n",
      "ألصديق يذهبان إلى المدرسة كل يوم.\n",
      "نريد أن نذهب الى الحديقة.\n",
      "نحب أن نقرأ الكتب.\n",
      "يجب أن نحترم الآخرين.\n",
      "عليكما أن تدرسان بجد.\n",
      "يمكنكم أن تحققون أحلامكم.\n",
      "لن نستسلم أبدا.\n",
      "علينا أن نتعاون معا.\n",
      "يجب أن نحافظ على البيئة.\n",
      "نود أن نسافر حول العالم.\n",
      "لا تنسون أن تتصلوا بي.\n",
      "لم ينجو المصاب من الحادث.\n",
      "\n"
     ]
    }
   ],
   "source": [
    "\n",
    "arabic_text_with_errors = \"\"\"\n",
    "كان الولدان يلعب في الحديقة.\n",
    "البنت يقرأ كتابًا تحت الشجرة.\n",
    "الطالب تدرسان معًا في المكتبة.\n",
    "ذهبت الأسرة إلى سوق.\n",
    "أشتريت ثلاث كتب من المكتبة.\n",
    "الكتابة على الطاولة.\n",
    "المعلمين يعلم الطلاب في الصف.\n",
    "كان الرجال يجلسون على الكرسي.\n",
    "ألبنات تلعب في الساحتان المتجاورتان الصغيرتان.\n",
    "ألصديق يذهبان إلى المدرسة كل يوم.\n",
    "نريد أن نذهب الى الحديقة.\n",
    "نحب أن نقرأ الكتب.\n",
    "يجب أن نحترم الآخرين.\n",
    "عليكما أن تدرسان بجد.\n",
    "يمكنكم أن تحققون أحلامكم.\n",
    "لن نستسلم أبدا.\n",
    "علينا أن نتعاون معا.\n",
    "يجب أن نحافظ على البيئة.\n",
    "نود أن نسافر حول العالم.\n",
    "لا تنسون أن تتصلوا بي.\n",
    "لم ينجو المصاب من الحادث.\n",
    "\"\"\"\n",
    "def print_sentences(text):\n",
    "    sentences = text.split('.')\n",
    "    for sentence in sentences:\n",
    "        sentence = sentence.strip()\n",
    "        if sentence:\n",
    "            print(sentence + '.')\n",
    "\n",
    "def split_text_to_word_lists(text):\n",
    "    sentences = [sentence.strip() for sentence in text.split('.') if sentence.strip()]\n",
    "    \n",
    "    word_lists = [sentence.split() + ['.'] for sentence in sentences]  # Append a dot at the end\n",
    "    \n",
    "    return word_lists\n",
    "\n",
    "def concatenate_words(word_lists):\n",
    "    result = \"\"\n",
    "    for word_list in word_lists:\n",
    "        for word in word_list:\n",
    "            result += word + \" \"\n",
    "    return result.strip()\n",
    "\n",
    "print(arabic_text_with_errors)"
   ]
  },
  {
   "cell_type": "code",
   "execution_count": 5,
   "metadata": {},
   "outputs": [
    {
     "name": "stdout",
     "output_type": "stream",
     "text": [
      "\n",
      "\n",
      "كان الولدان يلعب في الحديقة.\n",
      "البنت يقرأ كتابًا تحت الشجرة.\n",
      "الطالب تدرسان معًا في المكتبة.\n",
      "ذهبت الأسرة إلى سوق.\n",
      "اشتريت ثلاث كتب من المكتبة.\n",
      "الكتابة على الطاولة.\n",
      "المعلمين يعلم الطلاب في الصف.\n",
      "كان الرجال يجلسون على الكرسي.\n",
      "البنات تلعب في الساحتين المتجاورتين الصغيرتين.\n",
      "الصديق يذهبان إلى المدرسة كل يوم.\n",
      "نريد أن نذهب إلى الحديقة.\n",
      "نحب أن نقرأ الكتب.\n",
      "يجب أن نحترم الآخرين.\n",
      "عليكما أن تدرسا بجد.\n",
      "يمكنكم أن تحققوا احلامكم.\n",
      "لن نستسلم أبدا.\n",
      "علينا أن نتعاون معا.\n",
      "يجب أن نحافظ على البيئة.\n",
      "نود أن نسافر حول العالم.\n",
      "لا تنسوا أن تتصلوا بي.\n",
      "لم ينج المصاب من الحادث.\n",
      "['كان', 'الولدان', 'يلعب', 'في', 'الحديقة', '.']   True\n",
      "['البنت', 'يقرأ', 'كتابًا', 'تحت', 'الشجرة', '.']   False\n",
      "['الطالب', 'تدرسان', 'معًا', 'في', 'المكتبة', '.']   False\n",
      "['ذهبت', 'الأسرة', 'إلى', 'سوق', '.']   True\n",
      "['اشتريت', 'ثلاث', 'كتب', 'من', 'المكتبة', '.']   True\n",
      "['الكتابة', 'على', 'الطاولة', '.']   False\n",
      "['المعلمين', 'يعلم', 'الطلاب', 'في', 'الصف', '.']   False\n",
      "['كان', 'الرجال', 'يجلسون', 'على', 'الكرسي', '.']   True\n",
      "['البنات', 'تلعب', 'في', 'الساحتين', 'المتجاورتين', 'الصغيرتين', '.']   False\n",
      "['الصديق', 'يذهبان', 'إلى', 'المدرسة', 'كل', 'يوم', '.']   False\n",
      "['نريد', 'أن', 'نذهب', 'إلى', 'الحديقة', '.']   True\n",
      "['نحب', 'أن', 'نقرأ', 'الكتب', '.']   True\n",
      "['يجب', 'أن', 'نحترم', 'الآخرين', '.']   True\n",
      "['عليكما', 'أن', 'تدرسا', 'بجد', '.']   False\n",
      "['يمكنكم', 'أن', 'تحققوا', 'احلامكم', '.']   True\n",
      "['لن', 'نستسلم', 'أبدا', '.']   False\n",
      "['علينا', 'أن', 'نتعاون', 'معا', '.']   False\n",
      "['يجب', 'أن', 'نحافظ', 'على', 'البيئة', '.']   True\n",
      "['نود', 'أن', 'نسافر', 'حول', 'العالم', '.']   True\n",
      "['لا', 'تنسوا', 'أن', 'تتصلوا', 'بي', '.']   False\n",
      "['لم', 'ينج', 'المصاب', 'من', 'الحادث', '.']   False\n"
     ]
    }
   ],
   "source": [
    "\n",
    "\n",
    "word_lists = split_text_to_word_lists(arabic_text_with_errors)\n",
    "\n",
    "print(\"\")\n",
    "new_word_lists = []\n",
    "for word_list in word_lists:\n",
    "    result = grammer.handle_word_level_errors(word_list)\n",
    "    new_word_lists.append(result)\n",
    "\n",
    "print(\"\")\n",
    "modified_text = concatenate_words(new_word_lists)\n",
    "print_sentences(modified_text)\n",
    "\n",
    "for word_list in new_word_lists:\n",
    "    print(word_list, \" \" ,grammer.is_verbal_sentence(word_list))\n",
    "\n",
    "\n",
    "\n"
   ]
  },
  {
   "cell_type": "code",
   "execution_count": null,
   "metadata": {},
   "outputs": [],
   "source": []
  }
 ],
 "metadata": {
  "kernelspec": {
   "display_name": "image",
   "language": "python",
   "name": "python3"
  },
  "language_info": {
   "codemirror_mode": {
    "name": "ipython",
    "version": 3
   },
   "file_extension": ".py",
   "mimetype": "text/x-python",
   "name": "python",
   "nbconvert_exporter": "python",
   "pygments_lexer": "ipython3",
   "version": "3.11.5"
  }
 },
 "nbformat": 4,
 "nbformat_minor": 2
}
